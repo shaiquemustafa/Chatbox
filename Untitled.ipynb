{
 "cells": [
  {
   "cell_type": "code",
   "execution_count": null,
   "metadata": {
    "collapsed": true
   },
   "outputs": [],
   "source": [
    "from flask import Flask, request\n",
    "import json\n",
    "import requests\n",
    "\n",
    "app = Flask(__name__)\n",
    "\n",
    "# This needs to be filled with the Page Access Token that will be provided\n",
    "# by the Facebook App that will be created.\n",
    "PAT = ''\n",
    "\n",
    "@app.route('/', methods=['GET'])\n",
    "def handle_verification():\n",
    "  print \"Handling Verification.\"\n",
    "  if request.args.get('hub.verify_token', '') == 'my_voice_is_my_password_verify_me':\n",
    "    print \"Verification successful!\"\n",
    "    return request.args.get('hub.challenge', '')\n",
    "  else:\n",
    "    print \"Verification failed!\"\n",
    "    return 'Error, wrong validation token'\n",
    "\n",
    "@app.route('/', methods=['POST'])\n",
    "def handle_messages():\n",
    "  print \"Handling Messages\"\n",
    "  payload = request.get_data()\n",
    "  print payload\n",
    "  for sender, message in messaging_events(payload):\n",
    "    print \"Incoming from %s: %s\" % (sender, message)\n",
    "    send_message(PAT, sender, message)\n",
    "  return \"ok\"\n",
    "\n",
    "def messaging_events(payload):\n",
    "  \"\"\"Generate tuples of (sender_id, message_text) from the\n",
    "  provided payload.\n",
    "  \"\"\"\n",
    "  data = json.loads(payload)\n",
    "  messaging_events = data[\"entry\"][0][\"messaging\"]\n",
    "  for event in messaging_events:\n",
    "    if \"message\" in event and \"text\" in event[\"message\"]:\n",
    "      yield event[\"sender\"][\"id\"], event[\"message\"][\"text\"].encode('unicode_escape')\n",
    "    else:\n",
    "      yield event[\"sender\"][\"id\"], \"I can't echo this\"\n",
    "\n",
    "\n",
    "def send_message(token, recipient, text):\n",
    "  \"\"\"Send the message text to recipient with id recipient.\n",
    "  \"\"\"\n",
    "\n",
    "  r = requests.post(\"https://graph.facebook.com/v2.6/me/messages\",\n",
    "    params={\"access_token\": token},\n",
    "    data=json.dumps({\n",
    "      \"recipient\": {\"id\": recipient},\n",
    "      \"message\": {\"text\": text.decode('unicode_escape')}\n",
    "    }),\n",
    "    headers={'Content-type': 'application/json'})\n",
    "  if r.status_code != requests.codes.ok:\n",
    "    print r.text\n",
    "\n",
    "if __name__ == '__main__':\n",
    "  app.run()\n"
   ]
  }
 ],
 "metadata": {
  "anaconda-cloud": {},
  "kernelspec": {
   "display_name": "Python [conda root]",
   "language": "python",
   "name": "conda-root-py"
  },
  "language_info": {
   "codemirror_mode": {
    "name": "ipython",
    "version": 3
   },
   "file_extension": ".py",
   "mimetype": "text/x-python",
   "name": "python",
   "nbconvert_exporter": "python",
   "pygments_lexer": "ipython3",
   "version": "3.5.2"
  }
 },
 "nbformat": 4,
 "nbformat_minor": 1
}
